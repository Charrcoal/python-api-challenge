{
 "cells": [
  {
   "cell_type": "markdown",
   "metadata": {},
   "source": [
    "# VacationPy\n",
    "----\n",
    "\n",
    "#### Note\n",
    "* Instructions have been included for each segment. You do not have to follow them exactly, but they are included to help you think through the steps."
   ]
  },
  {
   "cell_type": "code",
   "execution_count": 108,
   "metadata": {},
   "outputs": [],
   "source": [
    "# Dependencies and Setup\n",
    "import matplotlib.pyplot as plt\n",
    "import pandas as pd\n",
    "import numpy as np\n",
    "import requests\n",
    "import gmaps\n",
    "import os\n",
    "\n",
    "# Import API key\n",
    "from api_keys import g_key\n"
   ]
  },
  {
   "cell_type": "markdown",
   "metadata": {},
   "source": [
    "### Store Part I results into DataFrame\n",
    "* Load the csv exported in Part I to a DataFrame"
   ]
  },
  {
   "cell_type": "code",
   "execution_count": 109,
   "metadata": {},
   "outputs": [
    {
     "data": {
      "text/html": [
       "<div>\n",
       "<style scoped>\n",
       "    .dataframe tbody tr th:only-of-type {\n",
       "        vertical-align: middle;\n",
       "    }\n",
       "\n",
       "    .dataframe tbody tr th {\n",
       "        vertical-align: top;\n",
       "    }\n",
       "\n",
       "    .dataframe thead th {\n",
       "        text-align: right;\n",
       "    }\n",
       "</style>\n",
       "<table border=\"1\" class=\"dataframe\">\n",
       "  <thead>\n",
       "    <tr style=\"text-align: right;\">\n",
       "      <th></th>\n",
       "      <th>City</th>\n",
       "      <th>Cloudiness</th>\n",
       "      <th>Country</th>\n",
       "      <th>Date</th>\n",
       "      <th>Humidity</th>\n",
       "      <th>Lat</th>\n",
       "      <th>Lng</th>\n",
       "      <th>Max Temp</th>\n",
       "      <th>Wind Speed</th>\n",
       "    </tr>\n",
       "  </thead>\n",
       "  <tbody>\n",
       "    <tr>\n",
       "      <th>0</th>\n",
       "      <td>port alfred</td>\n",
       "      <td>95</td>\n",
       "      <td>ZA</td>\n",
       "      <td>1584232302</td>\n",
       "      <td>86</td>\n",
       "      <td>-33.59</td>\n",
       "      <td>26.89</td>\n",
       "      <td>68.0</td>\n",
       "      <td>5.99</td>\n",
       "    </tr>\n",
       "    <tr>\n",
       "      <th>1</th>\n",
       "      <td>wellington</td>\n",
       "      <td>0</td>\n",
       "      <td>NZ</td>\n",
       "      <td>1584232305</td>\n",
       "      <td>72</td>\n",
       "      <td>-41.29</td>\n",
       "      <td>174.78</td>\n",
       "      <td>71.01</td>\n",
       "      <td>9.17</td>\n",
       "    </tr>\n",
       "    <tr>\n",
       "      <th>2</th>\n",
       "      <td>rikitea</td>\n",
       "      <td>0</td>\n",
       "      <td>PF</td>\n",
       "      <td>1584232308</td>\n",
       "      <td>78</td>\n",
       "      <td>-23.12</td>\n",
       "      <td>-134.97</td>\n",
       "      <td>78.26</td>\n",
       "      <td>12.12</td>\n",
       "    </tr>\n",
       "    <tr>\n",
       "      <th>3</th>\n",
       "      <td>yaring</td>\n",
       "      <td>40</td>\n",
       "      <td>TH</td>\n",
       "      <td>1584232311</td>\n",
       "      <td>100</td>\n",
       "      <td>6.87</td>\n",
       "      <td>101.37</td>\n",
       "      <td>77.0</td>\n",
       "      <td>4.7</td>\n",
       "    </tr>\n",
       "    <tr>\n",
       "      <th>4</th>\n",
       "      <td>cape town</td>\n",
       "      <td>40</td>\n",
       "      <td>ZA</td>\n",
       "      <td>1584232021</td>\n",
       "      <td>77</td>\n",
       "      <td>-33.93</td>\n",
       "      <td>18.42</td>\n",
       "      <td>66.0</td>\n",
       "      <td>17.22</td>\n",
       "    </tr>\n",
       "  </tbody>\n",
       "</table>\n",
       "</div>"
      ],
      "text/plain": [
       "          City Cloudiness Country        Date Humidity     Lat      Lng  \\\n",
       "0  port alfred         95      ZA  1584232302       86  -33.59    26.89   \n",
       "1   wellington          0      NZ  1584232305       72  -41.29   174.78   \n",
       "2      rikitea          0      PF  1584232308       78  -23.12  -134.97   \n",
       "3       yaring         40      TH  1584232311      100    6.87   101.37   \n",
       "4    cape town         40      ZA  1584232021       77  -33.93    18.42   \n",
       "\n",
       "  Max Temp Wind Speed  \n",
       "0     68.0       5.99  \n",
       "1    71.01       9.17  \n",
       "2    78.26      12.12  \n",
       "3     77.0        4.7  \n",
       "4     66.0      17.22  "
      ]
     },
     "execution_count": 109,
     "metadata": {},
     "output_type": "execute_result"
    }
   ],
   "source": [
    "# Import the Part I data \n",
    "weather_data = pd.read_csv(\n",
    "    \"../WeatherPy/Output/Weather.csv\", dtype=\"object\", encoding=\"utf-8\")\n",
    "\n",
    "# Visulization\n",
    "weather_data.head()"
   ]
  },
  {
   "cell_type": "markdown",
   "metadata": {},
   "source": [
    "### Humidity Heatmap\n",
    "* Configure gmaps.\n",
    "* Use the Lat and Lng as locations and Humidity as the weight.\n",
    "* Add Heatmap layer to map."
   ]
  },
  {
   "cell_type": "code",
   "execution_count": 112,
   "metadata": {},
   "outputs": [],
   "source": [
    "# Configure gmaps with API key\n",
    "gmaps.configure(api_key=g_key)\n",
    "# Store 'Lat' and 'Lng' into  locations \n",
    "locations = weather_data[[\"Lat\", \"Lng\"]].astype(float)\n",
    "# Convert Humidity to float and store\n",
    "# HINT: be sure to handle NaN values\n",
    "weather_data = weather_data.dropna()\n",
    "humidity = weather_data[\"Humidity\"].astype(float)"
   ]
  },
  {
   "cell_type": "code",
   "execution_count": 113,
   "metadata": {
    "scrolled": false
   },
   "outputs": [
    {
     "data": {
      "application/vnd.jupyter.widget-view+json": {
       "model_id": "dfaa8567a3224870a8896cbe87054fd2",
       "version_major": 2,
       "version_minor": 0
      },
      "text/plain": [
       "Figure(layout=FigureLayout(border='1px solid black', height='500px', margin='0 auto 0 auto', padding='1px', wi…"
      ]
     },
     "metadata": {},
     "output_type": "display_data"
    }
   ],
   "source": [
    "# Create a humidity Heatmap layer\n",
    "# For max intensity in the heat map, try setting it to the highest humidity found in the data set.\n",
    "figure_layout = {\n",
    "    'width': '800px',\n",
    "    'height': '500px',\n",
    "    'border': '1px solid black',\n",
    "    'padding': '1px',\n",
    "    'margin': '0 auto 0 auto'}\n",
    "\n",
    "fig = gmaps.figure(layout = figure_layout)\n",
    "heat_layer = gmaps.heatmap_layer(locations, weights=humidity, \n",
    "                                 dissipating=False, max_intensity= max(weather_data[\"Humidity\"].astype(float)),\n",
    "                                 point_radius = 1)\n",
    "fig.add_layer(heat_layer)\n",
    "\n",
    "fig"
   ]
  },
  {
   "cell_type": "markdown",
   "metadata": {},
   "source": [
    "### Create new DataFrame fitting weather criteria\n",
    "* Narrow down the cities to fit weather conditions.\n",
    "* Drop any rows will null values."
   ]
  },
  {
   "cell_type": "code",
   "execution_count": 131,
   "metadata": {},
   "outputs": [],
   "source": [
    "# max temperature lower than 80 and higher than 70\n",
    "# wind speed less than 10 mph\n",
    "# zero cloudiness\n",
    "narrowed_city_df = (weather_data[(weather_data[\"Max Temp\"].astype(float) < 80) &\n",
    "                                  (weather_data[\"Max Temp\"].astype(float )>=70) &\n",
    "                                  (weather_data[\"Wind Speed\"].astype(float) < 10) &\n",
    "                                  (weather_data[\"Cloudiness\"].astype(float) == 0 )])\n",
    "narrowed_city_df = narrowed_city_df.dropna()\n",
    "\n"
   ]
  },
  {
   "cell_type": "markdown",
   "metadata": {},
   "source": [
    "### Hotel Map\n",
    "* Store into variable named `hotel_df`.\n",
    "* Add a \"Hotel Name\" column to the DataFrame.\n",
    "* Set parameters to search for hotels with 5000 meters.\n",
    "* Hit the Google Places API for each city's coordinates.\n",
    "* Store the first Hotel result into the DataFrame.\n",
    "* Plot markers on top of the heatmap."
   ]
  },
  {
   "cell_type": "code",
   "execution_count": 133,
   "metadata": {},
   "outputs": [],
   "source": [
    "# Using Google Places API to find the first hotel for each city located within 5000 meters of your coordinates.\n",
    "# params dictionary to update each iteration\n",
    "params = {\n",
    "    \"radius\": 5000,\n",
    "    \"types\": \"hotel\",\n",
    "    \"key\": g_key\n",
    "}\n",
    "\n",
    "base_url = f\"https://maps.googleapis.com/maps/api/place/nearbysearch/json?\""
   ]
  },
  {
   "cell_type": "code",
   "execution_count": 134,
   "metadata": {},
   "outputs": [],
   "source": [
    "\n",
    "\n",
    "# Use the lat/lng we recovered to identify hotels\n",
    "for index, row in narrowed_city_df.iterrows():\n",
    "    # get lat, lng from df\n",
    "    lat = row[\"Lat\"]\n",
    "    lng = row[\"Lng\"]\n",
    "\n",
    "    # change location each iteration while leaving original params in place\n",
    "    params[\"location\"] = f\"{lat},{lng}\"\n",
    "\n",
    "\n",
    "    # make request and print url\n",
    "    hotel_data = requests.get(base_url, params=params)\n",
    "    \n",
    "#     print the name_address url, avoid doing for public github repos in order to avoid exposing key\n",
    "#     print(name_address.url)\n",
    "\n",
    "    # convert to json\n",
    "    hotel_data = hotel_data.json()\n",
    "    # print(json.dumps(name_address, indent=4, sort_keys=True))\n",
    "    try:\n",
    "        hotel_df.loc[index, \"Hotel Name\"] = hotel_data[\"results\"][0][\"name\"]\n",
    "        hotel_df.loc[index, \"Hotel Lat\"] = hotel_data[\"results\"][0][\"geometry\"][\"location\"][\"lat\"]\n",
    "        hotel_df.loc[index, \"Hotel Lng\"] = hotel_data[\"results\"][0][\"geometry\"][\"location\"][\"lng\"]\n",
    "    except (KeyError, IndexError):\n",
    "        print(\"Missing field/result... skipping.\")\n"
   ]
  },
  {
   "cell_type": "code",
   "execution_count": 322,
   "metadata": {},
   "outputs": [
    {
     "data": {
      "text/plain": [
       "<zip at 0x1151bab48>"
      ]
     },
     "execution_count": 322,
     "metadata": {},
     "output_type": "execute_result"
    }
   ],
   "source": [
    "hotel_df = hotel_df.dropna()\n",
    "\n",
    "\n",
    "hotel_1= hotel_df[\"Hotel Name\"].tolist()\n",
    "hotel_2 = hotel_df[\"City\"].tolist()\n",
    "hotel_3 = hotel_df[\"Country\"].tolist()\n",
    "hotel_name_data =zip(hotel_1,hotel_2, hotel_3)\n",
    "hotel_name_data"
   ]
  },
  {
   "cell_type": "code",
   "execution_count": 323,
   "metadata": {},
   "outputs": [
    {
     "data": {
      "text/plain": [
       "['\\n<dl>\\n<dt>Name</dt><dd>Bocas del Toro Province</dd>\\n<dt>City</dt><dd>bocas del toro</dd>\\n<dt>Country</dt><dd>PA</dd>\\n</dl>\\n',\n",
       " '\\n<dl>\\n<dt>Name</dt><dd>Cockburn Town</dd>\\n<dt>City</dt><dd>cockburn town</dd>\\n<dt>Country</dt><dd>TC</dd>\\n</dl>\\n',\n",
       " '\\n<dl>\\n<dt>Name</dt><dd>Dourbali</dd>\\n<dt>City</dt><dd>dourbali</dd>\\n<dt>Country</dt><dd>TD</dd>\\n</dl>\\n',\n",
       " '\\n<dl>\\n<dt>Name</dt><dd>Taoudenni</dd>\\n<dt>City</dt><dd>taoudenni</dd>\\n<dt>Country</dt><dd>ML</dd>\\n</dl>\\n',\n",
       " '\\n<dl>\\n<dt>Name</dt><dd>Xai-Xai District</dd>\\n<dt>City</dt><dd>xai-xai</dd>\\n<dt>Country</dt><dd>MZ</dd>\\n</dl>\\n',\n",
       " '\\n<dl>\\n<dt>Name</dt><dd>Nelson</dd>\\n<dt>City</dt><dd>nelson</dd>\\n<dt>Country</dt><dd>NZ</dd>\\n</dl>\\n',\n",
       " '\\n<dl>\\n<dt>Name</dt><dd>Mapua</dd>\\n<dt>City</dt><dd>mapua</dd>\\n<dt>Country</dt><dd>NZ</dd>\\n</dl>\\n',\n",
       " '\\n<dl>\\n<dt>Name</dt><dd>Wellington</dd>\\n<dt>City</dt><dd>wellington</dd>\\n<dt>Country</dt><dd>NZ</dd>\\n</dl>\\n']"
      ]
     },
     "execution_count": 323,
     "metadata": {},
     "output_type": "execute_result"
    }
   ],
   "source": [
    "# NOTE: Do not change any of the code in this cell\n",
    "\n",
    "# Using the template add the hotel marks to the heatmap\n",
    "info_box_template = \"\"\"\n",
    "<dl>\n",
    "<dt>Name</dt><dd>{Hotel Name}</dd>\n",
    "<dt>City</dt><dd>{City}</dd>\n",
    "<dt>Country</dt><dd>{Country}</dd>\n",
    "</dl>\n",
    "\"\"\"\n",
    "# Store the DataFrame Row\n",
    "# NOTE: be sure to update with your DataFrame name\n",
    "hotel_info = [info_box_template.format(**row) for index, row in hotel_df.iterrows()]\n",
    "locations = hotel_df[[\"Hotel Lat\", \"Hotel Lng\"]].astype(float)\n",
    "hotel_info"
   ]
  },
  {
   "cell_type": "code",
   "execution_count": 327,
   "metadata": {
    "scrolled": true
   },
   "outputs": [
    {
     "data": {
      "application/vnd.jupyter.widget-view+json": {
       "model_id": "dfaa8567a3224870a8896cbe87054fd2",
       "version_major": 2,
       "version_minor": 0
      },
      "text/plain": [
       "Figure(layout=FigureLayout(border='1px solid black', height='500px', margin='0 auto 0 auto', padding='1px', wi…"
      ]
     },
     "metadata": {},
     "output_type": "display_data"
    }
   ],
   "source": [
    "# Add marker layer ontop of heat map\n",
    "markers = gmaps.marker_layer(locations, info_box_content = [f\"{hotel_info}\" for hotel_info in hotel_name_data])\n",
    "# Add the layer to the map\n",
    "# Display Map\n",
    "fig.add_layer(markers)\n",
    "fig \n",
    "\n"
   ]
  },
  {
   "cell_type": "code",
   "execution_count": null,
   "metadata": {},
   "outputs": [],
   "source": []
  },
  {
   "cell_type": "code",
   "execution_count": null,
   "metadata": {},
   "outputs": [],
   "source": []
  }
 ],
 "metadata": {
  "kernelspec": {
   "display_name": "Python 3",
   "language": "python",
   "name": "python3"
  },
  "language_info": {
   "codemirror_mode": {
    "name": "ipython",
    "version": 3
   },
   "file_extension": ".py",
   "mimetype": "text/x-python",
   "name": "python",
   "nbconvert_exporter": "python",
   "pygments_lexer": "ipython3",
   "version": "3.6.10"
  },
  "latex_envs": {
   "LaTeX_envs_menu_present": true,
   "autoclose": false,
   "autocomplete": true,
   "bibliofile": "biblio.bib",
   "cite_by": "apalike",
   "current_citInitial": 1,
   "eqLabelWithNumbers": true,
   "eqNumInitial": 1,
   "hotkeys": {
    "equation": "Ctrl-E",
    "itemize": "Ctrl-I"
   },
   "labels_anchors": false,
   "latex_user_defs": false,
   "report_style_numbering": false,
   "user_envs_cfg": false
  }
 },
 "nbformat": 4,
 "nbformat_minor": 2
}
